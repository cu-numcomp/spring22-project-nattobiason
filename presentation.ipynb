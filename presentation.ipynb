{
 "cells": [
  {
   "cell_type": "markdown",
   "id": "78cc4a80-2bdc-4a59-84be-1e4c8bd600f5",
   "metadata": {
    "tags": []
   },
   "source": [
    "# PyArmidillo"
   ]
  },
  {
   "cell_type": "markdown",
   "id": "e6798e4a-8f5b-4713-8c93-93a80fd60943",
   "metadata": {},
   "source": [
    "PyArmadillo is a python linear algebra library with the goal of mirroring MatLab abilities and syntax. This library is a Python version the original Armidillo C++ library."
   ]
  },
  {
   "cell_type": "markdown",
   "id": "f6392ef6-8aa4-4ab6-92dd-031df15ce608",
   "metadata": {},
   "source": [
    "## Key Problems Solved"
   ]
  },
  {
   "cell_type": "markdown",
   "id": "69061a3e-7b26-442a-b16b-5b8badaaa359",
   "metadata": {},
   "source": [
    "PyArmadillo is a general linear algebra library so that pyhon users can easily and simply do linear algebra calculations. Main benifits:\n",
    "\n",
    " * Synax: If users are used to a MatLab like synax then this library will be easier to use than numpy (or something similar). Computational lines of conde tend to be shorter and more readable.\n",
    " * Conversion to C++: Considering pythons reputation for being slow... the authors of PyArmadillo claim that the conversion from Python to C++ code is simple. Uses pybind?\n",
    " * Free (compared to MatLab subscription fees)\n",
    " \n",
    "| MatLab Syntax | PyArmidillo Syntax | Notes |\n",
    "| --- | --- | --- |\n",
    "| A(1,1) | $A[0,0]$ | PyArmadillo 0 indexed |\n",
    "| A(k,k) | $A[k-1,k-1]$ |  |\n",
    "| size$(A,1)$ | A.n_rows |  |\n",
    "| size$(A, 2)$ | A.n_cols |  |\n",
    "| $A(:, k)$ | $A[:, k]$ |  |\n",
    "| A = [ 1 2; 3 4; ] | A = mat([ [ 1, 2 ],[ 3, 4 ] ]) | |\n",
    "| $A*B$ | $A*B$ | matrix multiplication |\n",
    "| $A.*B$ | $A @ B$ | element wise multiplication |\n",
    "| $A ./ B$ | $A / B$ | element wise division |\n",
    "| $A\\backslash B$ | solve(A, B) | $X$ such that $A*X=B$ |\n"
   ]
  },
  {
   "cell_type": "markdown",
   "id": "ecd8a6d0-4276-473a-a43c-ab2f527b1e69",
   "metadata": {},
   "source": [
    "***"
   ]
  },
  {
   "cell_type": "markdown",
   "id": "dbd2e674-91e2-47bd-84cf-f8e0231c261e",
   "metadata": {},
   "source": [
    "## Stakeholders"
   ]
  },
  {
   "cell_type": "markdown",
   "id": "11d5fda0-f214-46a2-8714-4dfeee5ffdf1",
   "metadata": {},
   "source": [
    "This library is published in The Journal of Open Source Software\n",
    "\n",
    "[Link to paper](https://joss.theoj.org/papers/10.21105/joss.03051), [Link to GitLab](https://gitlab.com/jason-rumengan/pyarma/-/tree/main)\n",
    "\n",
    "Authors: Jason Rumengan, Terry Yue Zhuo, Conrad Sanderson\n",
    "\n",
    "Jason Rumengan seems to be incharge of continuing to manage this project. He responds to issues and pushes updates to the repository.\n",
    "\n",
    "Overall, the library has great documentation and examples. It has been easy to use, learn, and download."
   ]
  },
  {
   "cell_type": "markdown",
   "id": "b9d0c231-5078-47f6-8507-30aca51e3c82",
   "metadata": {},
   "source": [
    "***"
   ]
  },
  {
   "cell_type": "markdown",
   "id": "248ce8be-1c8f-492c-aa4d-95d3ac897796",
   "metadata": {},
   "source": [
    "## Metrics and Features"
   ]
  },
  {
   "cell_type": "markdown",
   "id": "a6e55d1d-b7c2-4560-9dfe-371c273488c7",
   "metadata": {},
   "source": [
    "Speed: claims speed improves when converting to C++"
   ]
  },
  {
   "cell_type": "markdown",
   "id": "4ef664ba-37d1-49ee-9e63-00b4f78c608c",
   "metadata": {},
   "source": [
    "#### Preformance"
   ]
  },
  {
   "cell_type": "code",
   "execution_count": 45,
   "id": "c881d8bb-599a-40ba-a04d-d90034917321",
   "metadata": {},
   "outputs": [],
   "source": [
    "from pyarma import *\n",
    "import timeit\n",
    "import matplotlib.pyplot as plt"
   ]
  },
  {
   "cell_type": "code",
   "execution_count": 76,
   "id": "9680bbbb-bef7-47da-bd6c-1b39195c08b1",
   "metadata": {},
   "outputs": [
    {
     "data": {
      "text/plain": [
       "[<matplotlib.lines.Line2D at 0x7f99430f26a0>]"
      ]
     },
     "execution_count": 76,
     "metadata": {},
     "output_type": "execute_result"
    },
    {
     "data": {
      "image/png": "[encoded data removed]",
      "text/plain": [
       "<Figure size 432x288 with 1 Axes>"
      ]
     },
     "metadata": {
      "needs_background": "light"
     },
     "output_type": "display_data"
    }
   ],
   "source": [
    "\n",
    "def time(A, B):\n",
    "    start = timeit.default_timer()\n",
    "    \n",
    "#     C = A + B         # addition\n",
    "#     C = A - B         # subtraction\n",
    "    C = A * B         # multiplication\n",
    "#     C = solve(A,B)    # division\n",
    "\n",
    "    stop = timeit.default_timer()\n",
    "    return stop-start\n",
    "\n",
    "\n",
    "x = [0]\n",
    "y = [0]\n",
    "\n",
    "n = 100\n",
    "\n",
    "for i in range(1, 100):\n",
    "    a = mat(i, i, fill.randu) # create i x i matrix\n",
    "    b = mat(i, i, fill.randu)\n",
    "    x.append(i)\n",
    "    y.append(time(a, b))\n",
    "\n",
    "\n",
    "plt.plot(x, y)"
   ]
  },
  {
   "cell_type": "markdown",
   "id": "68611d33-e103-4006-a93f-88f8bdcea59a",
   "metadata": {},
   "source": [
    "***"
   ]
  },
  {
   "cell_type": "markdown",
   "id": "757ab26d-48d6-48bb-a6d2-a48257c1ad04",
   "metadata": {},
   "source": [
    "## Examples"
   ]
  },
  {
   "cell_type": "code",
   "execution_count": 41,
   "id": "b8b1f18b-df73-4b4d-abc6-794b03039a89",
   "metadata": {},
   "outputs": [],
   "source": [
    "from pyarma import *"
   ]
  },
  {
   "cell_type": "code",
   "execution_count": 29,
   "id": "80e43bf2-0b6f-4b70-b3f5-98cba4cde7eb",
   "metadata": {},
   "outputs": [],
   "source": [
    "A = mat(4, 4, fill.randu) # initialise 5x5 matrix with uniformly distributed random values\n",
    "B = mat([ [1, 2, 3, 4], [1, 1, 1, 1], [4, 3, 2, 1], [2, 3, 1, 4] ])  "
   ]
  },
  {
   "cell_type": "markdown",
   "id": "54c42c9d-c1fe-4030-a23e-f10ed5b11ae4",
   "metadata": {},
   "source": [
    " ***"
   ]
  },
  {
   "cell_type": "markdown",
   "id": "1418cd93-3d64-4ae6-baeb-5fee29bbbfa5",
   "metadata": {},
   "source": [
    "#### Matrix element wise division\n",
    "$ c_{ij} = \\frac{a_{ij}}{b_{ij}}$\n"
   ]
  },
  {
   "cell_type": "code",
   "execution_count": 33,
   "id": "5ab77f85-90d3-4f1b-93f3-a6a857d45412",
   "metadata": {},
   "outputs": [
    {
     "name": "stdout",
     "output_type": "stream",
     "text": [
      "A / B =\n",
      "   0.8128   0.0709   0.1329   0.2032\n",
      "   0.2266   0.2612   0.0246   0.7543\n",
      "   0.1213   0.0651   0.4277   0.7726\n",
      "   0.3989   0.2653   0.6505   0.0208\n"
     ]
    }
   ],
   "source": [
    "C = A / B                 # matrix element wise m\n",
    "C.print(\"A / B =\")"
   ]
  },
  {
   "cell_type": "markdown",
   "id": "111e97a8-f7f9-4aac-ba8e-c05234a527be",
   "metadata": {},
   "source": [
    "***"
   ]
  },
  {
   "cell_type": "markdown",
   "id": "59f91fe6-d3b0-4bbd-9dc9-6bc627977348",
   "metadata": {},
   "source": [
    "#### Matric scalar division\n",
    "<code> D = A/2 </code> $= \\frac{1}{2}A$ \n",
    "\n",
    "$d_{ij} = \\frac{a_{ij}}{2} = \\frac{1}{2} a_{ij} $"
   ]
  },
  {
   "cell_type": "code",
   "execution_count": 34,
   "id": "49ba4b11-1e93-4899-80ac-f24dcf44bd6d",
   "metadata": {},
   "outputs": [
    {
     "name": "stdout",
     "output_type": "stream",
     "text": [
      "A / 2 =\n",
      "   0.4064   0.0709   0.1993   0.4063\n",
      "   0.1133   0.1306   0.0123   0.3771\n",
      "   0.2425   0.0977   0.4277   0.3863\n",
      "   0.3989   0.3979   0.3253   0.0415\n"
     ]
    }
   ],
   "source": [
    "D = A / 2\n",
    "\n",
    "D.print(\"A / 2 = \")\n"
   ]
  },
  {
   "cell_type": "markdown",
   "id": "2fcece2d-08c1-4c61-8197-ba95e9de34d5",
   "metadata": {},
   "source": [
    "***"
   ]
  },
  {
   "cell_type": "markdown",
   "id": "44971dca-7291-4e8e-ac45-119510c948a2",
   "metadata": {},
   "source": [
    "#### Issue occurs"
   ]
  },
  {
   "cell_type": "code",
   "execution_count": 40,
   "id": "7cae2c74-71e7-4ed6-84e4-18844f6b3823",
   "metadata": {},
   "outputs": [],
   "source": [
    "E = 2 / A"
   ]
  },
  {
   "cell_type": "code",
   "execution_count": 39,
   "id": "9ca31381-331e-46ae-b6ba-11e26f971f93",
   "metadata": {},
   "outputs": [],
   "source": [
    "E = solve(A, 2)"
   ]
  },
  {
   "cell_type": "markdown",
   "id": "17636cb8-319f-4006-a508-6d877121accd",
   "metadata": {},
   "source": [
    "##### By PyArmidllo documentation:\n",
    "\n",
    "<code> M = A / B </code> is element wise division meaning $m_{ij} = \\frac{a_{ij}}{b_{ij}}$\n",
    "\n",
    "and\n",
    "\n",
    "<code> M =  solve(A,B) </code> is \"matrix division\" such that $A*M=B$\n",
    "\n"
   ]
  },
  {
   "cell_type": "markdown",
   "id": "343d418b-4d66-4f48-ae15-a4b379d82314",
   "metadata": {},
   "source": [
    "##### PyArmidillo should allow this syntax for scalar $c$ so that\n",
    "\n",
    "<code>  M = c / A </code>  is element wise division where $ m_{ij} = \\frac{c}{a_{ij}}$\n",
    "\n",
    "and\n",
    "\n",
    "<code> M =  solve(2,A) </code>  is \"matrix division\" where $2M=A$"
   ]
  },
  {
   "cell_type": "markdown",
   "id": "03845495-1c2e-4715-a8ca-28439f34be57",
   "metadata": {},
   "source": [
    "##### Considering they already allow for \n",
    "\n",
    "<code> M = A / c </code> where $ m_{ij} = \\frac{a_{ij}}{c}$"
   ]
  },
  {
   "cell_type": "code",
   "execution_count": null,
   "id": "acb08232-24e0-4cb9-b81e-a0c478acb420",
   "metadata": {},
   "outputs": [],
   "source": []
  }
 ],
 "metadata": {
  "kernelspec": {
   "display_name": "Python 3 (ipykernel)",
   "language": "python",
   "name": "python3"
  },
  "language_info": {
   "codemirror_mode": {
    "name": "ipython",
    "version": 3
   },
   "file_extension": ".py",
   "mimetype": "text/x-python",
   "name": "python",
   "nbconvert_exporter": "python",
   "pygments_lexer": "ipython3",
   "version": "3.9.6"
  }
 },
 "nbformat": 4,
 "nbformat_minor": 5
}
